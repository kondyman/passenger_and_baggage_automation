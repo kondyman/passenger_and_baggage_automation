{
 "cells": [
  {
   "cell_type": "code",
   "execution_count": 3,
   "metadata": {},
   "outputs": [],
   "source": [
    "import pandas as pd\n",
    "import numpy as np\n",
    "import random"
   ]
  },
  {
   "cell_type": "markdown",
   "metadata": {},
   "source": [
    "# MAIN SERVER"
   ]
  },
  {
   "cell_type": "code",
   "execution_count": 4,
   "metadata": {},
   "outputs": [
    {
     "data": {
      "text/html": [
       "<div>\n",
       "<style scoped>\n",
       "    .dataframe tbody tr th:only-of-type {\n",
       "        vertical-align: middle;\n",
       "    }\n",
       "\n",
       "    .dataframe tbody tr th {\n",
       "        vertical-align: top;\n",
       "    }\n",
       "\n",
       "    .dataframe thead th {\n",
       "        text-align: right;\n",
       "    }\n",
       "</style>\n",
       "<table border=\"1\" class=\"dataframe\">\n",
       "  <thead>\n",
       "    <tr style=\"text-align: right;\">\n",
       "      <th></th>\n",
       "      <th>name</th>\n",
       "      <th>baggage</th>\n",
       "      <th>bg_code</th>\n",
       "      <th>checkin</th>\n",
       "      <th>seat</th>\n",
       "      <th>boarding</th>\n",
       "    </tr>\n",
       "    <tr>\n",
       "      <th>pnr</th>\n",
       "      <th></th>\n",
       "      <th></th>\n",
       "      <th></th>\n",
       "      <th></th>\n",
       "      <th></th>\n",
       "      <th></th>\n",
       "    </tr>\n",
       "  </thead>\n",
       "  <tbody>\n",
       "    <tr>\n",
       "      <th>ABCD</th>\n",
       "      <td>Ruchir</td>\n",
       "      <td>NaN</td>\n",
       "      <td>NaN</td>\n",
       "      <td>NaN</td>\n",
       "      <td>NaN</td>\n",
       "      <td>NaN</td>\n",
       "    </tr>\n",
       "  </tbody>\n",
       "</table>\n",
       "</div>"
      ],
      "text/plain": [
       "         name  baggage  bg_code  checkin  seat  boarding\n",
       "pnr                                                     \n",
       "ABCD  Ruchir       NaN      NaN      NaN   NaN       NaN"
      ]
     },
     "execution_count": 4,
     "metadata": {},
     "output_type": "execute_result"
    }
   ],
   "source": [
    "server = pd.read_csv('server.csv', index_col='pnr')\n",
    "server"
   ]
  },
  {
   "cell_type": "markdown",
   "metadata": {},
   "source": [
    "# KIOSK"
   ]
  },
  {
   "cell_type": "code",
   "execution_count": 5,
   "metadata": {},
   "outputs": [
    {
     "name": "stdout",
     "output_type": "stream",
     "text": [
      "Enter your PNR\n",
      "ss\n",
      "\n",
      "\n",
      "Please enter a valid PNR\n",
      "Enter your PNR\n",
      "ABCD\n",
      "\n",
      "\n",
      "Please select a seat of your choice\n",
      "\n",
      "Enter the seat you want:\n",
      "24E\n"
     ]
    },
    {
     "name": "stderr",
     "output_type": "stream",
     "text": [
      "C:\\Users\\kondy\\anaconda3\\lib\\site-packages\\ipykernel_launcher.py:14: FutureWarning: elementwise comparison failed; returning scalar instead, but in the future will perform elementwise comparison\n",
      "  \n"
     ]
    }
   ],
   "source": [
    "play=True\n",
    "while play:\n",
    "    pnr=input('Enter your PNR\\n')\n",
    "    if pnr not in server.index.values:\n",
    "        print('\\n')\n",
    "        print(\"Please enter a valid PNR\")\n",
    "    else:\n",
    "        print('\\n')\n",
    "        print(\"Please select a seat of your choice\\n\")\n",
    "        play=False\n",
    "run=True\n",
    "while run:\n",
    "    seat=str(input('Enter the seat you want:\\n'))\n",
    "    if seat in server.seat.values:\n",
    "        print('Seat not Available, Please select another seat')\n",
    "    else:\n",
    "        server.loc[pnr,'seat']=seat\n",
    "        run=False"
   ]
  },
  {
   "cell_type": "code",
   "execution_count": 6,
   "metadata": {},
   "outputs": [
    {
     "data": {
      "text/html": [
       "<div>\n",
       "<style scoped>\n",
       "    .dataframe tbody tr th:only-of-type {\n",
       "        vertical-align: middle;\n",
       "    }\n",
       "\n",
       "    .dataframe tbody tr th {\n",
       "        vertical-align: top;\n",
       "    }\n",
       "\n",
       "    .dataframe thead th {\n",
       "        text-align: right;\n",
       "    }\n",
       "</style>\n",
       "<table border=\"1\" class=\"dataframe\">\n",
       "  <thead>\n",
       "    <tr style=\"text-align: right;\">\n",
       "      <th></th>\n",
       "      <th>name</th>\n",
       "      <th>baggage</th>\n",
       "      <th>bg_code</th>\n",
       "      <th>checkin</th>\n",
       "      <th>seat</th>\n",
       "      <th>boarding</th>\n",
       "    </tr>\n",
       "    <tr>\n",
       "      <th>pnr</th>\n",
       "      <th></th>\n",
       "      <th></th>\n",
       "      <th></th>\n",
       "      <th></th>\n",
       "      <th></th>\n",
       "      <th></th>\n",
       "    </tr>\n",
       "  </thead>\n",
       "  <tbody>\n",
       "    <tr>\n",
       "      <th>ABCD</th>\n",
       "      <td>Ruchir</td>\n",
       "      <td>NaN</td>\n",
       "      <td>NaN</td>\n",
       "      <td>NaN</td>\n",
       "      <td>24E</td>\n",
       "      <td>NaN</td>\n",
       "    </tr>\n",
       "  </tbody>\n",
       "</table>\n",
       "</div>"
      ],
      "text/plain": [
       "         name  baggage  bg_code  checkin seat  boarding\n",
       "pnr                                                    \n",
       "ABCD  Ruchir       NaN      NaN      NaN  24E       NaN"
      ]
     },
     "execution_count": 6,
     "metadata": {},
     "output_type": "execute_result"
    }
   ],
   "source": [
    "server"
   ]
  },
  {
   "cell_type": "markdown",
   "metadata": {},
   "source": [
    "# CHECK IN"
   ]
  },
  {
   "cell_type": "markdown",
   "metadata": {},
   "source": [
    "<b>BAGGAGE</b>"
   ]
  },
  {
   "cell_type": "code",
   "execution_count": 7,
   "metadata": {},
   "outputs": [
    {
     "name": "stdout",
     "output_type": "stream",
     "text": [
      "Do you have a Chech-in Baggage\n",
      "yes\n",
      "\n",
      "Kindly proceed for security check\n"
     ]
    }
   ],
   "source": [
    "bag = input('Do you have a Chech-in Baggage\\n')\n",
    "if bag == 'no':\n",
    "    server.loc[pnr,'baggage'] = bag\n",
    "    server.loc[pnr,'checkin'] = 'Done'\n",
    "    print('Kindly proceed for security check')\n",
    "elif bag == 'yes':\n",
    "    bag_no = random.randint(1,20000)\n",
    "    start=True\n",
    "    while start:\n",
    "        if bag_no not in server.bg_code.values:\n",
    "            start=False\n",
    "        elif bag_no in server.bg_code.values:\n",
    "            bag_no = random.randint(1,20000)\n",
    "    server.loc[pnr,'baggage'] = bag\n",
    "    server.loc[pnr,'bg_code'] = bag_no\n",
    "    server.loc[pnr,'checkin'] = 'Done'\n",
    "print('\\nKindly proceed for security check')"
   ]
  },
  {
   "cell_type": "markdown",
   "metadata": {},
   "source": [
    "<b><i>.....meanwhile in the server.....</i></b>"
   ]
  },
  {
   "cell_type": "code",
   "execution_count": 8,
   "metadata": {},
   "outputs": [
    {
     "data": {
      "text/html": [
       "<div>\n",
       "<style scoped>\n",
       "    .dataframe tbody tr th:only-of-type {\n",
       "        vertical-align: middle;\n",
       "    }\n",
       "\n",
       "    .dataframe tbody tr th {\n",
       "        vertical-align: top;\n",
       "    }\n",
       "\n",
       "    .dataframe thead th {\n",
       "        text-align: right;\n",
       "    }\n",
       "</style>\n",
       "<table border=\"1\" class=\"dataframe\">\n",
       "  <thead>\n",
       "    <tr style=\"text-align: right;\">\n",
       "      <th></th>\n",
       "      <th>name</th>\n",
       "      <th>baggage</th>\n",
       "      <th>bg_code</th>\n",
       "      <th>checkin</th>\n",
       "      <th>seat</th>\n",
       "      <th>boarding</th>\n",
       "    </tr>\n",
       "    <tr>\n",
       "      <th>pnr</th>\n",
       "      <th></th>\n",
       "      <th></th>\n",
       "      <th></th>\n",
       "      <th></th>\n",
       "      <th></th>\n",
       "      <th></th>\n",
       "    </tr>\n",
       "  </thead>\n",
       "  <tbody>\n",
       "    <tr>\n",
       "      <th>ABCD</th>\n",
       "      <td>Ruchir</td>\n",
       "      <td>yes</td>\n",
       "      <td>629.0</td>\n",
       "      <td>Done</td>\n",
       "      <td>24E</td>\n",
       "      <td>NaN</td>\n",
       "    </tr>\n",
       "  </tbody>\n",
       "</table>\n",
       "</div>"
      ],
      "text/plain": [
       "         name baggage  bg_code checkin seat  boarding\n",
       "pnr                                                  \n",
       "ABCD  Ruchir      yes    629.0    Done  24E       NaN"
      ]
     },
     "execution_count": 8,
     "metadata": {},
     "output_type": "execute_result"
    }
   ],
   "source": [
    "server"
   ]
  },
  {
   "cell_type": "markdown",
   "metadata": {},
   "source": [
    "# <b>FINAL BOARDING</b>"
   ]
  },
  {
   "cell_type": "code",
   "execution_count": 9,
   "metadata": {},
   "outputs": [
    {
     "name": "stdout",
     "output_type": "stream",
     "text": [
      "Enter you PNR for final boarding :\n",
      "ABCD\n",
      "\n",
      "\n",
      "WOOHOOO! proceed for BOARDING\n"
     ]
    }
   ],
   "source": [
    "go=True\n",
    "while go:\n",
    "    pnr_check = input('Enter you PNR for final boarding :\\n')\n",
    "    if pnr_check not in server.index.values:\n",
    "        print('\\n')\n",
    "        print(\"Please enter a valid PNR\")\n",
    "    else:\n",
    "        server.loc[pnr,'boarding']='Done'\n",
    "        print('\\n')\n",
    "        print(\"WOOHOOO! proceed for BOARDING\")\n",
    "        go=False"
   ]
  },
  {
   "cell_type": "code",
   "execution_count": null,
   "metadata": {},
   "outputs": [],
   "source": []
  }
 ],
 "metadata": {
  "kernelspec": {
   "display_name": "Python 3",
   "language": "python",
   "name": "python3"
  }
 },
 "nbformat": 4,
 "nbformat_minor": 4
}
